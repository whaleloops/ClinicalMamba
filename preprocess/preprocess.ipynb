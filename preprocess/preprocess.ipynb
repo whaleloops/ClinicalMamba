{
 "cells": [
  {
   "cell_type": "code",
   "execution_count": 1,
   "metadata": {},
   "outputs": [],
   "source": [
    "import sys\n",
    "# put mimic3 related files in MIMIC_3_DIR\n",
    "import copy\n",
    "from datetime import datetime\n",
    "import numpy as np\n",
    "import pandas as pd\n",
    "from collections import defaultdict\n",
    "from tqdm import tqdm\n",
    "import csv\n",
    "import json\n",
    "\n",
    "import gzip"
   ]
  },
  {
   "cell_type": "code",
   "execution_count": 2,
   "metadata": {},
   "outputs": [],
   "source": [
    "MIMIC_3_DIR = \"/data/corpora_alpha/MIMIC/physionet.org/files/mimiciii/1.4/\""
   ]
  },
  {
   "cell_type": "code",
   "execution_count": 3,
   "metadata": {},
   "outputs": [
    {
     "name": "stdout",
     "output_type": "stream",
     "text": [
      "58976\n",
      "46520\n"
     ]
    }
   ],
   "source": [
    "# load admissions\n",
    "df_admission = pd.read_csv('%s/ADMISSIONS.csv.gz' % (MIMIC_3_DIR), compression='gzip', index_col=None)\n",
    "print(len(set(df_admission['HADM_ID'])))\n",
    "print(len(set(df_admission['SUBJECT_ID'])))"
   ]
  },
  {
   "cell_type": "code",
   "execution_count": 4,
   "metadata": {},
   "outputs": [
    {
     "name": "stderr",
     "output_type": "stream",
     "text": [
      "0it [00:00, ?it/s]"
     ]
    },
    {
     "name": "stderr",
     "output_type": "stream",
     "text": [
      "2083180it [01:12, 28650.47it/s]\n"
     ]
    }
   ],
   "source": [
    "# load notes\n",
    "\n",
    "note_dict = {}\n",
    "unique_note_types = []\n",
    "\n",
    "\n",
    "\n",
    "notes_file = '%s/NOTEEVENTS.csv.gz' % (MIMIC_3_DIR)\n",
    "with gzip.open(notes_file, mode='rt') as csvfile:\n",
    "    notereader = csv.reader(csvfile)\n",
    "    next(notereader)\n",
    "    i = 0\n",
    "    for line in tqdm(notereader):\n",
    "        subject_id = int(line[1])\n",
    "        hadm_id = str(line[2])\n",
    "        CHARTDATE = str(line[3])\n",
    "        category = str(line[6]).strip().lower()\n",
    "        note = line[10]\n",
    "        if (subject_id, hadm_id) not in note_dict:\n",
    "            note_dict[(subject_id, hadm_id)] = []\n",
    "        if category == \"discharge summary\":\n",
    "            note_dict[(subject_id, hadm_id)].append(CHARTDATE + \" -- discharge summary --\\n\\n\" + note)\n",
    "        else:\n",
    "            note_dict[(subject_id, hadm_id)].append(CHARTDATE + \" -- \"+ category + \" note --\\n\\n\" + note)\n",
    "        if not category in unique_note_types:\n",
    "            unique_note_types.append(category)\n",
    "        i += 1"
   ]
  },
  {
   "cell_type": "code",
   "execution_count": 5,
   "metadata": {},
   "outputs": [
    {
     "data": {
      "text/plain": [
       "['discharge summary',\n",
       " 'echo',\n",
       " 'ecg',\n",
       " 'nursing',\n",
       " 'physician',\n",
       " 'rehab services',\n",
       " 'case management',\n",
       " 'respiratory',\n",
       " 'nutrition',\n",
       " 'general',\n",
       " 'social work',\n",
       " 'pharmacy',\n",
       " 'consult',\n",
       " 'radiology',\n",
       " 'nursing/other']"
      ]
     },
     "execution_count": 5,
     "metadata": {},
     "output_type": "execute_result"
    }
   ],
   "source": [
    "unique_note_types"
   ]
  },
  {
   "cell_type": "code",
   "execution_count": 6,
   "metadata": {},
   "outputs": [
    {
     "name": "stdout",
     "output_type": "stream",
     "text": [
      "2083180\n"
     ]
    }
   ],
   "source": [
    "# number of notes\n",
    "num_notes = 0\n",
    "for k, v in note_dict.items():\n",
    "    num_notes += len(v)\n",
    "print(num_notes)"
   ]
  },
  {
   "cell_type": "code",
   "execution_count": 7,
   "metadata": {},
   "outputs": [],
   "source": [
    "# preprocess\n",
    "import re\n",
    "def proc_text(text):\n",
    "    text = re.sub(r'\\[\\*\\*[^\\]]*\\*\\*\\]', '', text)  # remove any mimic special token like [**2120-2-28**] or [**Hospital1 3278**]\n",
    "    text = re.sub('Dr\\.','doctor',text)\n",
    "    text = re.sub('dr\\.','doctor',text)\n",
    "    text = re.sub('M\\.D\\.','doctor',text)\n",
    "    text = re.sub('--|__|==','',text)\n",
    "    step1 = re.sub(\"\\r\", \"\\n\", text)\n",
    "    step2 = re.sub(r'(?<!\\n)\\n(?!\\n)', ' ', step1) # Replace single \\n with a space\n",
    "    text = re.sub(r'\\n{2,}', '\\n', step2) # Collapse multiple \\n into a single \\n\n",
    "    return re.sub(r'  +', ' ', text)"
   ]
  },
  {
   "cell_type": "code",
   "execution_count": 8,
   "metadata": {},
   "outputs": [],
   "source": [
    "def convert_to_date(string):\n",
    "    date_str = string[:10]  # Extract the first 10 characters as the date\n",
    "    return datetime.strptime(date_str, \"%Y-%m-%d\")\n",
    "\n",
    "note_dict_tmp = {}\n",
    "hadmid2prevhadmid = defaultdict(list)\n",
    "\n",
    "for (subject_id, hadm_id), v in note_dict.items():\n",
    "    sorted_notes = sorted(v, key=lambda item: convert_to_date(item))\n",
    "    if len(sorted_notes) > 0:\n",
    "        note_dict_tmp[(subject_id, hadm_id)] = proc_text(\"\\n\\n\".join(sorted_notes))\n",
    "\n",
    "\n"
   ]
  },
  {
   "cell_type": "code",
   "execution_count": 9,
   "metadata": {},
   "outputs": [
    {
     "data": {
      "text/plain": [
       "['2148-07-25 -- nursing/other note --\\n\\nNeonatology\\nBaby Girl [**Known lastname 1672**] is a newborn infant referred by Dr. [**Last Name (STitle) 2252**] for evaluation of sepsis risk.\\n\\nShe was born at 8:29 pm this evening as the 3150 gm product of a 39 3/7 weeks gestation pregnancy to a 31 y.o. G1 P0-1 mother with [**Name (NI) 44**] [**2148-7-29**].  Prenatal labs included BT O+/Ab-, RPR NR, RI, HBsAg-, and GBS+.  Pregnancy was notable for zoster illness at 24 weeks but was otherwise reportedly uncomplicated.  Intrapartum course was notable for ROM 10 hrs PTD, maternal treatment with abx beginning 9.5 hrs PTD, and maternal temp to 100.4.  Infnat was born via c-section due to NRFHT with meconium stained fluid, and emerged vigorous with Apgars [**8-29**].  Due to sepsis risk factors, infant was brought to NICU.\\n\\nExam:\\nWt 3150 gm.\\nVS: T 99.9 R, HR 150s, RR 40s, BP pending.\\nGen: active and vigorous, WD, no distress.\\nSkin: warm, dry, pink, no rash.\\nHEENT: fontanelles soft and flat, ears/nares normal, palate intact.\\nNeck: supple, no lesions.\\nChest: coarse, well-aerated, no g/f/r.\\nCardiac: RRR, no m.\\nAbdomen: soft, no HSM, no mass, quiet BS.\\nGU: normal female, anus patent, femoral pulses 2+.\\nExt: hips/back normal.\\nNeuro: appropriate tone and activity, intact moro/grasp.\\n\\nIMP: Newborn term infant at risk for sepsis due to maternal intrapartum fever.  Mother also GBS+ but with adequate intrapartum prophylaxis.  Infant is well-appearing.\\n\\nPLANS:\\n- Triage in NICU.\\n- Screen for sepsis with CBC w/diff, blood cx, dstik.\\n- Routine vital signs.\\n- Transfer to regular nursery.\\n- Consider empiric abx if CBC abnl or other clinical concerns arise.\\n\\nPMD: [**Hospital3 3018**].\\n',\n",
       " '2148-07-25 -- nursing/other note --\\n\\nNPN NICU\\nTerm female admitted to NICU for sepsis eval, labwork only, CBC, Diff, Plts and bld culture sent, VSS see flow sheet for details, d/s = 66 no void stooled in DR. [**Last Name (STitle) **] and Vit K given and charted. transfered to NN as ordered.\\n']"
      ]
     },
     "execution_count": 9,
     "metadata": {},
     "output_type": "execute_result"
    }
   ],
   "source": [
    "sorted_notes"
   ]
  },
  {
   "cell_type": "code",
   "execution_count": 10,
   "metadata": {},
   "outputs": [
    {
     "data": {
      "text/plain": [
       "82178"
      ]
     },
     "execution_count": 10,
     "metadata": {},
     "output_type": "execute_result"
    }
   ],
   "source": [
    "len(note_dict_tmp)"
   ]
  },
  {
   "cell_type": "code",
   "execution_count": 11,
   "metadata": {},
   "outputs": [],
   "source": [
    "note_dict = note_dict_tmp"
   ]
  },
  {
   "cell_type": "code",
   "execution_count": 12,
   "metadata": {},
   "outputs": [],
   "source": [
    "# test_hadm_ids = []\n",
    "\n",
    "# readmi_test = \"~/mimic3/ICD-MSMN/sample_data/mimic3_readmit/discharge/test.csv\"\n",
    "# df_tmp = pd.read_csv(readmi_test)\n",
    "# test_hadm_ids += [str(int(a)) for a in df_tmp.ID.tolist()]\n",
    "# readmi_test = \"~/mimic3/ICD-MSMN/sample_data/mimic3_readmit/discharge/val.csv\"\n",
    "# df_tmp = pd.read_csv(readmi_test)\n",
    "# test_hadm_ids += [str(int(a)) for a in df_tmp.ID.tolist()]\n",
    "# readmi_test = \"~/mimic3/ICD-MSMN/sample_data/mimic3_prevvisit/test_full.csv\"\n",
    "# df_tmp = pd.read_csv(readmi_test)\n",
    "# test_hadm_ids += [str(a) for a in df_tmp.HADM_ID.tolist()]\n",
    "# readmi_test = \"~/mimic3/ICD-MSMN/sample_data/mimic3_prevvisit/dev_full.csv\"\n",
    "# df_tmp = pd.read_csv(readmi_test)\n",
    "# test_hadm_ids += [str(a) for a in df_tmp.HADM_ID.tolist()]\n",
    "\n",
    "# test_hadm_ids =set(test_hadm_ids)"
   ]
  },
  {
   "cell_type": "code",
   "execution_count": 13,
   "metadata": {},
   "outputs": [
    {
     "name": "stdout",
     "output_type": "stream",
     "text": [
      "6049\n",
      "76129\n",
      "6049\n"
     ]
    }
   ],
   "source": [
    "# split pretraning and testing data\n",
    "\n",
    "with open('./test_hadm_ids.json', 'r') as f:\n",
    "    test_hadm_ids = json.load(f)\n",
    "print(len(test_hadm_ids))\n",
    "\n",
    "train_data = {}\n",
    "test_data = {}\n",
    "for (subject_id, hadm_id), v in note_dict.items():\n",
    "    if hadm_id in test_hadm_ids:\n",
    "        test_data[(subject_id, hadm_id)] = v\n",
    "    else:\n",
    "        train_data[(subject_id, hadm_id)] = v\n",
    "\n",
    "print(len(train_data))\n",
    "print(len(test_data))"
   ]
  },
  {
   "cell_type": "code",
   "execution_count": 15,
   "metadata": {},
   "outputs": [
    {
     "name": "stderr",
     "output_type": "stream",
     "text": [
      "Special tokens have been added in the vocabulary, make sure the associated word embeddings are fine-tuned or trained.\n"
     ]
    }
   ],
   "source": [
    "from transformers import AutoTokenizer\n",
    "from langchain.text_splitter import CharacterTextSplitter\n",
    "tokenizer = AutoTokenizer.from_pretrained(\"/data/data_user_alpha/public_models/state-spaces-mamba/mamba-130m\")\n",
    "max_tokens = 16384\n",
    "text_splitter = CharacterTextSplitter.from_huggingface_tokenizer(\n",
    "    tokenizer, chunk_size=max_tokens-5, chunk_overlap=0\n",
    ")\n",
    "\n",
    "train_data_new = []\n",
    "for (subject_id, hadm_id), notes in train_data.items():\n",
    "    texts = text_splitter.split_text(notes)\n",
    "    data_tmp = {}\n",
    "    i = 0\n",
    "    for texta in texts:\n",
    "        data_tmp[\"subjectid\"] = subject_id\n",
    "        data_tmp[\"hadmid\"] = hadm_id\n",
    "        data_tmp[\"segid\"] = i\n",
    "        data_tmp[\"notes\"] = texta\n",
    "        i += 1\n",
    "    train_data_new.append(data_tmp)\n",
    "train_data = train_data_new\n",
    "\n",
    "test_data_new = []\n",
    "for (subject_id, hadm_id), notes in test_data.items():\n",
    "    texts = text_splitter.split_text(notes)\n",
    "    data_tmp = {}\n",
    "    i = 0\n",
    "    for texta in texts:\n",
    "        data_tmp[\"subjectid\"] = subject_id\n",
    "        data_tmp[\"hadmid\"] = hadm_id\n",
    "        data_tmp[\"segid\"] = i\n",
    "        data_tmp[\"notes\"] = texta\n",
    "        i += 1\n",
    "    test_data_new.append(data_tmp)\n",
    "test_data = test_data_new"
   ]
  },
  {
   "cell_type": "code",
   "execution_count": 16,
   "metadata": {},
   "outputs": [
    {
     "name": "stdout",
     "output_type": "stream",
     "text": [
      "16384\n"
     ]
    }
   ],
   "source": [
    "print(max_tokens)"
   ]
  },
  {
   "cell_type": "code",
   "execution_count": 18,
   "metadata": {},
   "outputs": [
    {
     "name": "stdout",
     "output_type": "stream",
     "text": [
      "76129\n",
      "6049\n"
     ]
    }
   ],
   "source": [
    "# save\n",
    "with open('data_train_16384.json', 'w') as fp:\n",
    "    fp.write('\\n'.join(json.dumps(i) for i in train_data))\n",
    "with open('data_test_16384.json', 'w') as fp:\n",
    "    fp.write('\\n'.join(json.dumps(i) for i in test_data))\n",
    "\n",
    "\n",
    "print(len(train_data))\n",
    "print(len(test_data))"
   ]
  },
  {
   "cell_type": "code",
   "execution_count": null,
   "metadata": {},
   "outputs": [],
   "source": []
  },
  {
   "cell_type": "code",
   "execution_count": 6,
   "metadata": {},
   "outputs": [
    {
     "name": "stderr",
     "output_type": "stream",
     "text": [
      "Special tokens have been added in the vocabulary, make sure the associated word embeddings are fine-tuned or trained.\n"
     ]
    }
   ],
   "source": [
    "# tokenizer\n",
    "from transformers import AutoTokenizer\n",
    "\n",
    "note_dict = []\n",
    "with open(\"/home/zhichaoyang/mimic3/clinical-mamba/preprocess/data_train.json\", \"r\") as file:\n",
    "    for line in file:  \n",
    "        note_dict.append(json.loads(line))\n",
    "tokenizer = AutoTokenizer.from_pretrained(\"/data/data_user_alpha/public_models/state-spaces-mamba/mamba-130m\")\n",
    "\n",
    "num_tokens = []\n",
    "for (subject_id, hadm_id), v in note_dict:\n",
    "    tokens = tokenizer(v)[\"input_ids\"]\n",
    "    num_tokens.append(len(tokens))\n",
    "\n",
    "num_tokens = np.array(num_tokens)"
   ]
  },
  {
   "cell_type": "code",
   "execution_count": 7,
   "metadata": {},
   "outputs": [
    {
     "name": "stdout",
     "output_type": "stream",
     "text": [
      "763894341\n",
      "10034.209578478634\n",
      "312460.5760000006\n",
      "100422.20000000007\n",
      "35258.19999999998\n",
      "4533.0\n",
      "50.0\n",
      "14\n"
     ]
    }
   ],
   "source": [
    "#train statistics\n",
    "print(num_tokens.sum())\n",
    "print(num_tokens.mean())\n",
    "print(np.percentile(num_tokens,99.9))\n",
    "print(np.percentile(num_tokens,99))\n",
    "print(np.percentile(num_tokens,95))\n",
    "print(np.percentile(num_tokens,50))\n",
    "print(np.percentile(num_tokens,1))\n",
    "print(num_tokens.min())"
   ]
  },
  {
   "cell_type": "code",
   "execution_count": 5,
   "metadata": {},
   "outputs": [
    {
     "name": "stdout",
     "output_type": "stream",
     "text": [
      "113801842\n",
      "18813.331459745412\n",
      "441370.8640000027\n",
      "190458.4799999973\n",
      "68774.19999999994\n",
      "7513.0\n",
      "1637.92\n",
      "575\n"
     ]
    }
   ],
   "source": [
    "#test statistics\n",
    "print(num_tokens.sum())\n",
    "print(num_tokens.mean())\n",
    "print(np.percentile(num_tokens,99.9))\n",
    "print(np.percentile(num_tokens,99))\n",
    "print(np.percentile(num_tokens,95))\n",
    "print(np.percentile(num_tokens,50))\n",
    "print(np.percentile(num_tokens,1))\n",
    "print(num_tokens.min())"
   ]
  },
  {
   "cell_type": "code",
   "execution_count": 22,
   "metadata": {},
   "outputs": [
    {
     "data": {
      "image/png": "[encoded data removed]",
      "text/plain": [
       "<Figure size 640x480 with 1 Axes>"
      ]
     },
     "metadata": {},
     "output_type": "display_data"
    }
   ],
   "source": [
    "import matplotlib.pyplot as plt\n",
    "filtered_data = num_tokens[num_tokens < 32000]\n",
    "n, bins, patches = plt.hist(filtered_data, bins=50, density=True)\n",
    "plt.show()"
   ]
  },
  {
   "cell_type": "code",
   "execution_count": null,
   "metadata": {},
   "outputs": [],
   "source": []
  }
 ],
 "metadata": {
  "kernelspec": {
   "display_name": "mixtral_env",
   "language": "python",
   "name": "python3"
  },
  "language_info": {
   "codemirror_mode": {
    "name": "ipython",
    "version": 3
   },
   "file_extension": ".py",
   "mimetype": "text/x-python",
   "name": "python",
   "nbconvert_exporter": "python",
   "pygments_lexer": "ipython3",
   "version": "3.9.18"
  }
 },
 "nbformat": 4,
 "nbformat_minor": 2
}
